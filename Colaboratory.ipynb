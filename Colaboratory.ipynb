{
  "cells": [
    {
      "cell_type": "markdown",
      "metadata": {
        "id": "view-in-github",
        "colab_type": "text"
      },
      "source": [
        "<a href=\"https://colab.research.google.com/github/mateo-me/Colab/blob/main/Colaboratory.ipynb\" target=\"_parent\"><img src=\"https://colab.research.google.com/assets/colab-badge.svg\" alt=\"Open In Colab\"/></a>"
      ]
    },
    {
      "cell_type": "code",
      "source": [
        "import numpy as np\n",
        "\n",
        "def buscar_pivo(L):\n",
        "    p = np.nonzero(L)[1]\n",
        "    if p.size:\n",
        "        return p[0]\n",
        "    return L.size\n",
        "\n",
        "mat = np.matrix([[1,  0,  0,  0],\n",
        "                 [0,  1,  0,  0],\n",
        "                 [1,  0,  5,  0],\n",
        "                 [2,  1,  1,  0],]).astype(float)\n",
        "\n",
        "res = mat[np.argsort(np.apply_along_axis(buscar_pivo, axis=1, arr=mat))]\n",
        "print(res)"
      ],
      "metadata": {
        "colab": {
          "base_uri": "https://localhost:8080/"
        },
        "id": "2v1iZF1MH72N",
        "outputId": "62732ca9-03c3-4e41-89dc-cfe78c626a03"
      },
      "execution_count": 7,
      "outputs": [
        {
          "output_type": "stream",
          "name": "stdout",
          "text": [
            "[[1. 0. 0. 0.]\n",
            " [1. 0. 5. 0.]\n",
            " [2. 1. 1. 0.]\n",
            " [0. 1. 0. 0.]]\n"
          ]
        }
      ]
    },
    {
      "cell_type": "code",
      "source": [],
      "metadata": {
        "id": "GmmUOuKPIpbk"
      },
      "execution_count": null,
      "outputs": []
    },
    {
      "cell_type": "code",
      "source": [],
      "metadata": {
        "id": "fgIkTYMXR3zl"
      },
      "execution_count": null,
      "outputs": []
    },
    {
      "cell_type": "code",
      "source": [],
      "metadata": {
        "id": "5KoJyyxEcvfa"
      },
      "execution_count": null,
      "outputs": []
    }
  ],
  "metadata": {
    "colab": {
      "name": "Te damos la bienvenida a Colaboratory",
      "provenance": [],
      "include_colab_link": true
    },
    "kernelspec": {
      "display_name": "Python 3",
      "name": "python3"
    }
  },
  "nbformat": 4,
  "nbformat_minor": 0
}